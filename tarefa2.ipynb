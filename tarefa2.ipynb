{
  "nbformat": 4,
  "nbformat_minor": 0,
  "metadata": {
    "colab": {
      "provenance": []
    },
    "kernelspec": {
      "name": "python3",
      "display_name": "Python 3"
    },
    "language_info": {
      "name": "python"
    }
  },
  "cells": [
    {
      "cell_type": "code",
      "source": [
        "import pandas as pd\n",
        "from pandas import json_normalize\n"
      ],
      "metadata": {
        "id": "-9-TcrHMOUvj"
      },
      "execution_count": null,
      "outputs": []
    },
    {
      "cell_type": "code",
      "source": [
        "data = [\n",
        "   {\n",
        "      \"CreateDate\":\"2021-05-24T20:21:34.79\",\n",
        "      \"EmissionDate\":\"2021-05-24T00:00:00\",\n",
        "      \"Discount\":0.0,\n",
        "      \"NFeNumber\":501,\n",
        "      \"NFeID\":1,\n",
        "      \"ItemList\":[\n",
        "         {\n",
        "            \"ProductName\":\"Rice\",\n",
        "            \"Value\":35.55,\n",
        "            \"Quantity\":2\n",
        "         },\n",
        "         {\n",
        "            \"ProductName\":\"Flour\",\n",
        "            \"Value\":11.55,\n",
        "            \"Quantity\":5\n",
        "         },\n",
        "         {\n",
        "            \"ProductName\":\"Bean\",\n",
        "            \"Value\":27.15,\n",
        "            \"Quantity\":7\n",
        "         }\n",
        "      ]\n",
        "   },\n",
        "   # ... (os outros itens do JSON)\n",
        "]\n",
        "\n",
        "df = pd.DataFrame(data)\n"
      ],
      "metadata": {
        "id": "U9aB_6nNOXGN"
      },
      "execution_count": null,
      "outputs": []
    },
    {
      "cell_type": "code",
      "source": [
        "df_expanded = df.copy()\n",
        "df_expanded = df_expanded.drop(columns=['ItemList'])  # Remove a coluna original\n",
        "df_expanded = df_expanded.join(json_normalize(df['ItemList']).add_prefix('Item_'))\n"
      ],
      "metadata": {
        "id": "4BMBTPnwOars"
      },
      "execution_count": null,
      "outputs": []
    },
    {
      "cell_type": "code",
      "source": [
        "df_products = json_normalize(df['ItemList']).add_prefix('Product_')\n",
        "df_quantities = json_normalize(df['ItemList']).add_prefix('Quantity_')\n"
      ],
      "metadata": {
        "id": "yLqdOPZqOfQj"
      },
      "execution_count": null,
      "outputs": []
    },
    {
      "cell_type": "code",
      "source": [],
      "metadata": {
        "id": "cddFj2uSOiLz"
      },
      "execution_count": null,
      "outputs": []
    }
  ]
}